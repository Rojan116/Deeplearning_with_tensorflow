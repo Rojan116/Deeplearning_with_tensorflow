{
  "nbformat": 4,
  "nbformat_minor": 0,
  "metadata": {
    "colab": {
      "name": "lstm.ipynb",
      "version": "0.3.2",
      "provenance": [],
      "private_outputs": true,
      "include_colab_link": true
    },
    "kernelspec": {
      "name": "python3",
      "display_name": "Python 3"
    },
    "accelerator": "GPU"
  },
  "cells": [
    {
      "cell_type": "markdown",
      "metadata": {
        "id": "view-in-github",
        "colab_type": "text"
      },
      "source": [
        "<a href=\"https://colab.research.google.com/github/Rojan116/Deeplearning_with_tensorflow/blob/master/lstm.ipynb\" target=\"_parent\"><img src=\"https://colab.research.google.com/assets/colab-badge.svg\" alt=\"Open In Colab\"/></a>"
      ]
    },
    {
      "metadata": {
        "id": "Y8IHCVwmcOdC",
        "colab_type": "code",
        "colab": {}
      },
      "cell_type": "code",
      "source": [
        "#import modules\n",
        "import tensorflow as tf\n",
        "from tensorflow.keras.models import Sequential\n",
        "from tensorflow.keras.layers import Dense, Dropout, LSTM,CuDNNLSTM"
      ],
      "execution_count": 0,
      "outputs": []
    },
    {
      "metadata": {
        "id": "a-G3xArmcf1Z",
        "colab_type": "code",
        "colab": {}
      },
      "cell_type": "code",
      "source": [
        "#load MNIST dataset \n",
        "mnist = tf.keras.datasets.mnist\n",
        "(x_train,y_train),(x_test,y_test) = mnist.load_data()\n",
        "\n",
        "#normalizing\n",
        "x_train = x_train/255.0\n",
        "x_test =  x_test/255.0"
      ],
      "execution_count": 0,
      "outputs": []
    },
    {
      "metadata": {
        "id": "ydcgZvVxdb4h",
        "colab_type": "code",
        "colab": {}
      },
      "cell_type": "code",
      "source": [
        "#Creating our RNN model\n",
        "#Creating Sequential model\n",
        "model = Sequential()\n",
        "\n",
        "#adding LSTM layers in RNN\n",
        "model.add(LSTM(128, input_shape=(x_train.shape[1:]),activation='relu', return_sequences=True))\n",
        "#adding Dropout layer \n",
        "model.add(Dropout(0.2))\n",
        "\n",
        "model.add(LSTM(128, activation='relu'))\n",
        "model.add(Dropout(0.2))\n",
        "\n",
        "#adding Dense layer\n",
        "model.add(Dense(32,activation='relu'))\n",
        "model.add(Dropout(0.2))\n",
        "\n",
        "#oputpt layer \n",
        "model.add(Dense(10,activation='softmax'))\n",
        "\n",
        "\n",
        "#adding optimizer\n",
        "\n",
        "opt = tf.keras.optimizers.Adam(lr=1e-3,decay=1e-5)\n",
        "\n",
        "\n",
        "#compiling our model\n",
        "model.compile(loss='sparse_categorical_crossentropy',\n",
        "             optimizer = opt,\n",
        "              metrics=['accuracy']\n",
        "             )\n",
        "\n",
        "model.fit(x_train,y_train,epochs=25,validation_data=(x_test,y_test))"
      ],
      "execution_count": 0,
      "outputs": []
    },
    {
      "metadata": {
        "id": "deElYR4CeS6s",
        "colab_type": "code",
        "colab": {}
      },
      "cell_type": "code",
      "source": [
        ""
      ],
      "execution_count": 0,
      "outputs": []
    }
  ]
}